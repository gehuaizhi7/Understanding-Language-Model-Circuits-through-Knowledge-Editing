{
 "cells": [
  {
   "cell_type": "markdown",
   "metadata": {},
   "source": [
    "## Pytorch hooks\n",
    "You can use a hook to modify the procedure of a module.  \n",
    "\n",
    "**Tutorial** [This one](https://www.youtube.com/watch?v=syLFCVYua6Q) by Elliot Waite is one of the best tutorials about hooks."
   ]
  },
  {
   "cell_type": "code",
   "execution_count": 1,
   "metadata": {},
   "outputs": [
    {
     "name": "stdout",
     "output_type": "stream",
     "text": [
      "torch version: 2.1.2\n"
     ]
    }
   ],
   "source": [
    "import torch\n",
    "import torch.nn as nn \n",
    "import numpy as np\n",
    "print(\"torch version:\", torch.__version__)"
   ]
  },
  {
   "cell_type": "markdown",
   "metadata": {},
   "source": [
    "#### Forward hook and forward pre-hook\n",
    "A forward pre-hook is computed every time before `forward` comptues an output. [doc](https://pytorch.org/docs/stable/generated/torch.nn.Module.html#torch.nn.Module.register_forward_pre_hook)  \n",
    "A forward hook is computed every time after `forward` computed an output. [doc](https://pytorch.org/docs/stable/generated/torch.nn.Module.html#torch.nn.Module.register_forward_hook)  "
   ]
  },
  {
   "cell_type": "code",
   "execution_count": 8,
   "metadata": {},
   "outputs": [
    {
     "name": "stdout",
     "output_type": "stream",
     "text": [
      "Original output: tensor(5.)\n",
      "After the forward pre-hook: tensor(15.)\n",
      "After removing the hook: tensor(5.)\n",
      "Original output: tensor(5.)\n",
      "After the forward hook: tensor(5.5000)\n",
      "After removing the hook: tensor(5.)\n"
     ]
    }
   ],
   "source": [
    "class SumNet(nn.Module):\n",
    "    def __init__(self):\n",
    "        super().__init__()\n",
    "\n",
    "    def forward(self, x, y):\n",
    "        return x + y\n",
    "\n",
    "def modify_x_pre_hook(module, inputs):\n",
    "    x, y = inputs \n",
    "    return (x+10), y \n",
    "\n",
    "def modify_output_hook(module, args, output):\n",
    "    return output + 0.5\n",
    "\n",
    "def test_forward_pre_hook():\n",
    "    m = SumNet()\n",
    "    x = torch.tensor(2.)\n",
    "    y = torch.tensor(3.)\n",
    "\n",
    "    print(\"Original output:\", m(x, y))\n",
    "    handle = m.register_forward_pre_hook(modify_x_pre_hook)\n",
    "    print(\"After the forward pre-hook:\", m(x, y))\n",
    "    handle.remove()\n",
    "    print(\"After removing the hook:\", m(x, y))\n",
    "\n",
    "def test_forward_hook():\n",
    "    m = SumNet()\n",
    "    x = torch.tensor(2.)\n",
    "    y = torch.tensor(3.)\n",
    "\n",
    "    print(\"Original output:\", m(x, y))\n",
    "    handle = m.register_forward_hook(modify_output_hook)\n",
    "    print(\"After the forward hook:\", m(x, y))\n",
    "    handle.remove()\n",
    "    print(\"After removing the hook:\", m(x, y))\n",
    "\n",
    "test_forward_pre_hook()\n",
    "test_forward_hook()"
   ]
  },
  {
   "cell_type": "markdown",
   "metadata": {},
   "source": [
    "#### Backward hook and full backward hook\n",
    "A backward hook is called every time a *gradient* with respect to the tensor is computed.\n",
    "\n",
    "- You can register a *full* backward hook [pytorch doc](https://pytorch.org/docs/stable/generated/torch.nn.Module.html#torch.nn.Module.register_full_backward_hook)  \n",
    "- You'll also see why there's a bug in the prior pytorch implementation (`register_backward_hook`)  "
   ]
  },
  {
   "cell_type": "code",
   "execution_count": 22,
   "metadata": {},
   "outputs": [
    {
     "name": "stdout",
     "output_type": "stream",
     "text": [
      "Grads wrt input: (tensor(4.), tensor(6.))\n",
      "Grads wrt output: (tensor(1.),)\n",
      "Computed gradients: tensor(1.) tensor(12.) tensor(8.) tensor(5.)\n"
     ]
    },
    {
     "name": "stderr",
     "output_type": "stream",
     "text": [
      "/Users/zhuzi/miniforge3/envs/transformers4/lib/python3.9/site-packages/torch/nn/modules/module.py:1359: UserWarning: Using a non-full backward hook when the forward contains multiple autograd Nodes is deprecated and will be removed in future versions. This hook will be missing some grad_input. Please use register_full_backward_hook to get the documented behavior.\n",
      "  warnings.warn(\"Using a non-full backward hook when the forward contains multiple autograd Nodes \"\n"
     ]
    }
   ],
   "source": [
    "class Mult3Net(nn.Module):\n",
    "    def __init__(self):\n",
    "        super().__init__()\n",
    "\n",
    "    def forward(self, x, y, z):\n",
    "        return x * y * z\n",
    "\n",
    "# Backward, module-level hook example of gradient clipping\n",
    "def clip_gradients(grad, bounds):\n",
    "    return torch.clip(grad, min=bounds[0], max=bounds[1])\n",
    "\n",
    "def print_and_clip_grad_backward_hook(module, grad_inputs, grad_outputs):\n",
    "    \"\"\"\n",
    "    Inputs:\n",
    "        module: the torch.nn.Module that computes the output from the input\n",
    "        grad_inputs: tuple, containing the gradients w.r.t the module input\n",
    "        grad_outputs: tuple, containing the gradients w.r.t the module output\n",
    "    Returns:\n",
    "        new_grad_input\n",
    "    Note:\n",
    "    - It's not allowed to modify the inputs/outputs in-place in a backward hook.\n",
    "    \"\"\"\n",
    "    print(\"Grads wrt input:\", grad_inputs)\n",
    "    print(\"Grads wrt output:\", grad_outputs)\n",
    "    return tuple([clip_gradients(grad_input, [-5, 5]) for grad_input in grad_inputs])\n",
    "\n",
    "def test_backward_module_level_hook():\n",
    "    m = Mult3Net()\n",
    "    x = torch.tensor(2., requires_grad=True)\n",
    "    y = torch.tensor(3., requires_grad=True)\n",
    "    z = torch.tensor(4., requires_grad=True)\n",
    "    \n",
    "    # Try run without commenting out this line\n",
    "    # m.register_full_backward_hook(print_and_clip_grad_backward_hook)\n",
    "\n",
    "    # The following line leads to an incorrect \"grads wrt input\". This is a bug in pytorch\n",
    "    # m.register_backward_hook(print_and_clip_grad_backward_hook)\n",
    "\n",
    "    res = m(x, y, z)\n",
    "    res.retain_grad()\n",
    "    res.backward()\n",
    "    print(\"Computed gradients:\", res.grad, x.grad, y.grad, z.grad)\n",
    "    \n",
    "    \n",
    "test_backward_module_level_hook()"
   ]
  },
  {
   "cell_type": "markdown",
   "metadata": {},
   "source": [
    "#### Backward, tensor-level hook\n",
    "Pytorch alternatively allows you to register a hook on the tensor level, but this mechanism only works for the backward hook.\n",
    "[Pytorch documentation here](https://pytorch.org/docs/stable/generated/torch.Tensor.register_hook.html)  "
   ]
  },
  {
   "cell_type": "code",
   "execution_count": 25,
   "metadata": {},
   "outputs": [
    {
     "name": "stdout",
     "output_type": "stream",
     "text": [
      "Computed gradients: tensor(1.) tensor(-12.) tensor(8.) tensor(6.)\n"
     ]
    }
   ],
   "source": [
    "def test_backward_tensor_level_hook():\n",
    "    m = Mult3Net()\n",
    "    x = torch.tensor(2., requires_grad=True)\n",
    "    y = torch.tensor(3., requires_grad=True)\n",
    "    z = torch.tensor(4., requires_grad=True)\n",
    "\n",
    "    # Tensor-level hook\n",
    "    x.register_hook(lambda grad: -grad)\n",
    "\n",
    "    res = m(x, y, z)\n",
    "    res.retain_grad()\n",
    "    res.backward()\n",
    "    print(\"Computed gradients:\", res.grad, x.grad, y.grad, z.grad)\n",
    "    \n",
    "    \n",
    "test_backward_tensor_level_hook()"
   ]
  },
  {
   "cell_type": "markdown",
   "metadata": {},
   "source": [
    "## Practice questions\n",
    "1. If you want to view and save the intermediate representations of a module, how would you implement that?  \n",
    "2. If you want to view and save the gradients of a module, how would you implement that?  \n",
    "3. If you want to do a \"copy-pasting\" mechanism onto a model, i.e., temporarily overwriting the weights of model A using the parameters from model B, but only for one forward() step. How would you implement that?  "
   ]
  },
  {
   "cell_type": "code",
   "execution_count": null,
   "metadata": {},
   "outputs": [],
   "source": []
  }
 ],
 "metadata": {
  "kernelspec": {
   "display_name": "transformers4",
   "language": "python",
   "name": "python3"
  },
  "language_info": {
   "codemirror_mode": {
    "name": "ipython",
    "version": 3
   },
   "file_extension": ".py",
   "mimetype": "text/x-python",
   "name": "python",
   "nbconvert_exporter": "python",
   "pygments_lexer": "ipython3",
   "version": "3.9.10"
  }
 },
 "nbformat": 4,
 "nbformat_minor": 2
}
